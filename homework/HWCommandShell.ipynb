{
  "nbformat": 4,
  "nbformat_minor": 0,
  "metadata": {
    "colab": {
      "provenance": []
    },
    "kernelspec": {
      "name": "python3",
      "display_name": "Python 3"
    },
    "language_info": {
      "name": "python"
    }
  },
  "cells": [
    {
      "cell_type": "markdown",
      "source": [
        "#Excercise 1"
      ],
      "metadata": {
        "id": "boJI9n3cd5IH"
      }
    },
    {
      "cell_type": "markdown",
      "source": [
        "mkdir -p originals\n",
        "\n",
        "mv *.zip originals/\n",
        "\n",
        "mv */*.csv originals/"
      ],
      "metadata": {
        "id": "nUYh82Erg62G"
      }
    },
    {
      "cell_type": "markdown",
      "source": [
        "#Excercise 2"
      ],
      "metadata": {
        "id": "aF_8VVm8hlfs"
      }
    },
    {
      "cell_type": "markdown",
      "source": [
        "(base) pawangadaum@pawans-MacBook-Air originals % head -n 1 diabetes_prediction_dataset.csv > part1.csv\n",
        "cp part1.csv part2.csv\n",
        "cp part1.csv part3.csv\n",
        "\n",
        "(base) pawangadaum@pawans-MacBook-Air originals % tail -n +2 diabetes_prediction_dataset.csv | head -n 33333 >> part1.csv\n",
        "\n",
        "tail -n +33335 diabetes_prediction_dataset.csv | head -n 33333 >> part2.csv\n",
        "\n",
        "tail -n +66668 diabetes_prediction_dataset.csv >> part3.csv\n",
        "\n",
        "(base) pawangadaum@pawans-MacBook-Air originals % wc -l part1.csv part2.csv part3.csv\n",
        "\n",
        "   33334 part1.csv\n",
        "   33334 part2.csv\n",
        "   33335 part3.csv\n",
        "  100003 total\n",
        "(base) pawangadaum@pawans-MacBook-Air originals %\n"
      ],
      "metadata": {
        "id": "J29jbFXDhq6j"
      }
    },
    {
      "cell_type": "markdown",
      "source": [
        "#Excercise 3"
      ],
      "metadata": {
        "id": "8UdwhAa3dfDo"
      }
    },
    {
      "cell_type": "markdown",
      "source": [
        "(base) pawangadaum@pawans-MacBook-Air kaggle % cd ~/datasets/kaggle/heart-disease-prediction\n",
        "\n",
        "(base) pawangadaum@pawans-MacBook-Air heart-disease-prediction % head -n 1 Heart_Disease_Prediction.csv > presence.csv\n",
        "head -n 1 Heart_Disease_Prediction.csv > absence.csv\n",
        "\n",
        "(base) pawangadaum@pawans-MacBook-Air heart-disease-prediction % grep \"Presence\" Heart_Disease_Prediction.csv >> presence.csv\n",
        "grep \"Absence\" Heart_Disease_Prediction.csv >> absence.csv\n",
        "\n",
        "(base) pawangadaum@pawans-MacBook-Air heart-disease-prediction % wc -l presence.csv\n",
        "wc -l absence.csv\n",
        "\n",
        "     121 presence.csv\n",
        "     151 absence.csv"
      ],
      "metadata": {
        "id": "vpfWjwqjduxo"
      }
    },
    {
      "cell_type": "markdown",
      "source": [
        "#Excercise 4"
      ],
      "metadata": {
        "id": "uf_kgVFyd0_Q"
      }
    },
    {
      "cell_type": "markdown",
      "source": [
        "(base) pawangadaum@pawans-MacBook-Air originals % tail -n +2 car_web_scraped_dataset.csv | wc -l\n",
        "\n",
        "    2840\n",
        "(base) pawangadaum@pawans-MacBook-Air originals % grep -i \"No accidents reported\" car_web_scraped_dataset.csv | wc -l\n",
        "\n",
        "    2223\n",
        "(base) pawangadaum@pawans-MacBook-Air originals % grep -i \"No accidents reported\" car_web_scraped_dataset.csv | wc -l\n",
        "\n",
        "    2223\n",
        "(base) pawangadaum@pawans-MacBook-Air originals % echo \"scale=4; 6800 / 10000\" | bc\n",
        "\n",
        ".6800"
      ],
      "metadata": {
        "id": "Zlz9BCSRhLQB"
      }
    },
    {
      "cell_type": "markdown",
      "source": [
        "#Excercise 5"
      ],
      "metadata": {
        "id": "jS9vjSpKheYd"
      }
    },
    {
      "cell_type": "markdown",
      "source": [
        "sed -e 's/,yes/,1/g' \\\n",
        "    -e 's/,no/,0/g' \\\n",
        "    -e 's/,semi-furnished/,2/g' \\\n",
        "    -e 's/,unfurnished/,0/g' \\\n",
        "    -e 's/,furnished/,1/g' \\\n",
        "    Housing.csv > Housing_modified.csv\n",
        "\n",
        "\n",
        "head Housing_modified.csv\n",
        "\n",
        "price,area,bedrooms,bathrooms,stories,mainroad,guestroom,basement,hotwaterheating,airconditioning,parking,prefarea,furnishingstatus\n",
        "13300000,7420,4,2,3,1,0,0,0,1,2,1,1\n",
        "12250000,8960,4,4,4,1,0,0,0,1,3,0,1\n",
        "12250000,9960,3,2,2,1,0,1,0,0,2,1,2\n",
        "12215000,7500,4,2,2,1,0,1,0,1,3,1,1\n",
        "11410000,7420,4,1,2,1,1,1,0,1,2,0,1\n",
        "10850000,7500,3,3,1,1,0,1,0,1,2,1,2\n",
        "10150000,8580,4,3,4,1,0,0,0,1,2,1,2\n",
        "10150000,16200,5,3,2,1,0,0,0,0,0,0,0\n",
        "9870000,8100,4,1,2,1,1,1,0,1,2,1,1"
      ],
      "metadata": {
        "id": "Iq_k84_Uh2Ar"
      }
    },
    {
      "cell_type": "markdown",
      "source": [
        "#Excercise 6"
      ],
      "metadata": {
        "id": "rR--gOUGiWkx"
      }
    },
    {
      "cell_type": "markdown",
      "source": [
        "(base) pawangadaum@pawans-MacBook-Air mall-customers % cut -d ',' -f2- Mall_Customers.csv > Mall_Customers_no_id.csv\n",
        "\n",
        "(base) pawangadaum@pawans-MacBook-Air mall-customers % head Mall_Customers_no_id.csv\n",
        "\n",
        "Gender,Age,Education ,Marital Status,Annual Income (k$),Spending Score (1-100)\n",
        "M,19,High School,Married,15,39\n",
        "M,21,Graduate,Single,15,81\n",
        "F,20,Graduate,Married,16,6\n",
        "F,23,High School,Unknown,16,77\n",
        "F,31,Uneducated,Married,17,40\n",
        "F,22,Graduate,Married,17,76\n",
        "F,35,Unknown,Married,18,6\n",
        "F,23,High School,Unknown,18,94\n",
        "M,64,Uneducated,Single,19,3"
      ],
      "metadata": {
        "id": "-UivHFcmiZb1"
      }
    },
    {
      "cell_type": "markdown",
      "source": [
        "#Excercise 7"
      ],
      "metadata": {
        "id": "Rtcg-G8ej2lC"
      }
    },
    {
      "cell_type": "markdown",
      "source": [
        "cd ~/datasets/kaggle/originals\n",
        "\n",
        "# Only process numeric rows\n",
        "echo \"TotalScore\" > university_scores_sum_shell.csv\n",
        "tail -n +2 world_university_rankings.csv \\\n",
        "  | cut -d ',' -f5-8 \\\n",
        "  | grep -E '^[0-9.]+,[0-9.]+,[0-9.]+,[0-9.]+$' \\\n",
        "  | tr ',' '+' \\\n",
        "  | bc >> university_scores_sum_shell.csv\n"
      ],
      "metadata": {
        "id": "adrZl99RkrJ0"
      }
    },
    {
      "cell_type": "markdown",
      "source": [
        "#Excercise 8"
      ],
      "metadata": {
        "id": "fI-lE44mkuWy"
      }
    },
    {
      "cell_type": "markdown",
      "source": [
        "(base) pawangadaum@pawans-MacBook-Air originals % cd ~/datasets/kaggle/originals\n",
        "(base) pawangadaum@pawans-MacBook-Air originals % head -n 1 \"cancer patient data sets.csv\" > sorted_cancer.csv\n",
        "tail -n +2 \"cancer patient data sets.csv\" | sort -t ',' -k2,2n >> sorted_cancer.csv\n",
        "(base) pawangadaum@pawans-MacBook-Air originals % head sorted_cancer.csv\n",
        "\n",
        "index,Patient Id,Age,Gender,Air Pollution,Alcohol use,Dust Allergy,OccuPational Hazards,Genetic Risk,chronic Lung Disease,Balanced Diet,Obesity,Smoking,Passive Smoker,Chest Pain,Coughing of Blood,Fatigue,Weight Loss,Shortness of Breath,Wheezing,Swallowing Difficulty,Clubbing of Finger Nails,Frequent Cold,Dry Cough,Snoring,Level\n",
        "0,P1,33,1,2,4,5,4,3,2,2,4,3,2,2,4,3,4,2,2,3,1,2,3,4,Low\n",
        "1,P10,17,1,3,1,5,3,4,2,2,2,2,4,2,3,1,3,7,8,6,2,1,7,2,Medium\n",
        "10,P107,44,1,6,7,7,7,7,6,7,7,7,8,7,7,5,3,2,7,8,2,4,5,3,High\n",
        "100,P189,39,2,6,8,7,7,7,6,7,7,8,7,7,9,3,2,4,1,4,2,4,2,3,High\n",
        "101,P19,38,2,2,1,5,3,2,3,2,4,1,4,2,4,6,7,2,5,8,1,3,2,3,Medium\n",
        "102,P190,49,1,6,5,6,5,5,4,6,7,2,3,4,8,8,7,9,2,1,4,6,7,2,High\n",
        "103,P191,37,1,8,8,7,7,7,6,7,7,8,7,7,9,3,2,4,1,4,2,4,2,3,High\n",
        "104,P192,26,2,7,7,7,7,7,6,7,7,7,7,7,7,2,7,6,7,6,7,2,3,1,High\n",
        "105,P193,37,2,7,7,7,7,6,7,7,7,7,7,7,8,4,2,3,1,4,5,6,7,5,High"
      ],
      "metadata": {
        "id": "8DsYKT-4k8yw"
      }
    }
  ]
}
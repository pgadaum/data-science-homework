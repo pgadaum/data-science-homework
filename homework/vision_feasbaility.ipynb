{
  "cells": [
    {
      "cell_type": "markdown",
      "metadata": {
        "id": "lQesLAjJbX5f"
      },
      "source": [
        "# Facial Emotion Recognition with Keras\n",
        "\n",
        "## Project Definition\n",
        "\n",
        "**Project Link:** https://www.kaggle.com/datasets/fer2013\n",
        "\n",
        "**Challenge:** Classify facial expressions into 8 emotion categories using deep learning.\n",
        "\n",
        "**Data:** Images of people showing different emotions (angry, disgust, fear, happy, neutral, sad, surprise, contempt).\n",
        "\n",
        "**ML Type:** Supervised Multiclass Classification"
      ]
    },
    {
      "cell_type": "code",
      "execution_count": 1,
      "metadata": {
        "colab": {
          "base_uri": "https://localhost:8080/"
        },
        "id": "V9gpT8NNbX5g",
        "outputId": "18f9622e-5430-4abf-e073-2908c10c8bd5"
      },
      "outputs": [
        {
          "output_type": "stream",
          "name": "stdout",
          "text": [
            "TensorFlow version: 2.18.0\n",
            "Keras version: 3.8.0\n"
          ]
        }
      ],
      "source": [
        "# Import libraries\n",
        "import numpy as np\n",
        "import pandas as pd\n",
        "import matplotlib.pyplot as plt\n",
        "import seaborn as sns\n",
        "import os\n",
        "from PIL import Image\n",
        "import tensorflow as tf\n",
        "from tensorflow import keras\n",
        "from tensorflow.keras import layers\n",
        "from sklearn.preprocessing import LabelEncoder\n",
        "from sklearn.model_selection import train_test_split\n",
        "import cv2\n",
        "\n",
        "print(f\"TensorFlow version: {tf.__version__}\")\n",
        "print(f\"Keras version: {keras.__version__}\")"
      ]
    },
    {
      "cell_type": "markdown",
      "metadata": {
        "id": "29jiMCzSbX5g"
      },
      "source": [
        "## Data Loading and Initial Look"
      ]
    },
    {
      "cell_type": "code",
      "execution_count": 2,
      "metadata": {
        "colab": {
          "base_uri": "https://localhost:8080/"
        },
        "id": "WMc5xWMCbX5h",
        "outputId": "e498eafe-4ec9-4034-ce2f-233e885e49ab"
      },
      "outputs": [
        {
          "output_type": "stream",
          "name": "stdout",
          "text": [
            "Path to dataset files: /kaggle/input/fer2013\n",
            "Folders in images/:\n",
            "['test', 'train']\n",
            " Total image files found: 35887\n"
          ]
        }
      ],
      "source": [
        "!pip install -q kagglehub\n",
        "\n",
        "# 3. Set the Kaggle config directory\n",
        "os.environ['KAGGLE_CONFIG_DIR'] = \"/content\"\n",
        "\n",
        "import kagglehub\n",
        "\n",
        "# Download latest version\n",
        "path = kagglehub.dataset_download(\"msambare/fer2013\")\n",
        "\n",
        "print(\"Path to dataset files:\", path)\n",
        "\n",
        "print(\"Folders in images/:\")\n",
        "print(os.listdir(path))\n",
        "total_files = sum([len(files) for _, _, files in os.walk(path)])\n",
        "print(f\" Total image files found: {total_files}\")\n"
      ]
    },
    {
      "cell_type": "code",
      "source": [
        "import cv2\n",
        "from tensorflow.keras.utils import to_categorical\n",
        "\n",
        "# Set image size and data paths\n",
        "img_size = (48, 48)\n",
        "base_path = path  # from kagglehub\n",
        "train_path = os.path.join(base_path, \"train\")\n",
        "test_path = os.path.join(base_path, \"test\")\n",
        "\n",
        "# Helper to load images and labels\n",
        "def load_images_from_folder(folder_path):\n",
        "    images = []\n",
        "    labels = []\n",
        "    for label in os.listdir(folder_path):\n",
        "        label_path = os.path.join(folder_path, label)\n",
        "        if not os.path.isdir(label_path):\n",
        "            continue\n",
        "        for file in os.listdir(label_path):\n",
        "            if file.lower().endswith((\".jpg\", \".png\", \".jpeg\")):\n",
        "                img_path = os.path.join(label_path, file)\n",
        "                img = cv2.imread(img_path, cv2.IMREAD_GRAYSCALE)\n",
        "                img = cv2.resize(img, img_size)\n",
        "                img = img.astype('float32') / 255.0\n",
        "                images.append(img)\n",
        "                labels.append(label)\n",
        "    return np.array(images), np.array(labels)\n",
        "\n",
        "# Load train and test sets\n",
        "print(\" Loading training data...\")\n",
        "X_train, y_train = load_images_from_folder(train_path)\n",
        "print(f\" Loaded {X_train.shape[0]} training images\")\n",
        "\n",
        "print(\" Loading testing data...\")\n",
        "X_test, y_test = load_images_from_folder(test_path)\n",
        "print(f\" Loaded {X_test.shape[0]} testing images\")\n",
        "\n",
        "# Encode labels\n",
        "label_encoder = LabelEncoder()\n",
        "y_train_enc = label_encoder.fit_transform(y_train)\n",
        "y_test_enc = label_encoder.transform(y_test)\n",
        "\n",
        "# Convert labels to categorical\n",
        "y_train_cat = to_categorical(y_train_enc, num_classes=len(label_encoder.classes_))\n",
        "y_test_cat = to_categorical(y_test_enc, num_classes=len(label_encoder.classes_))\n",
        "\n",
        "# Reshape input images for CNN\n",
        "X_train = X_train.reshape(-1, 48, 48, 1)\n",
        "X_test = X_test.reshape(-1, 48, 48, 1)\n",
        "\n",
        "# Label mapping\n",
        "label_map = dict(zip(label_encoder.classes_, label_encoder.transform(label_encoder.classes_)))\n",
        "print(\"\\n Label map:\")\n",
        "for name, code in label_map.items():\n",
        "    print(f\"{name} → {code}\")\n"
      ],
      "metadata": {
        "colab": {
          "base_uri": "https://localhost:8080/"
        },
        "id": "jft9GwZKTdgB",
        "outputId": "0175f862-3c9a-4632-caf6-dc43fce9429a"
      },
      "execution_count": 3,
      "outputs": [
        {
          "output_type": "stream",
          "name": "stdout",
          "text": [
            " Loading training data...\n",
            " Loaded 28709 training images\n",
            " Loading testing data...\n",
            " Loaded 7178 testing images\n",
            "\n",
            " Label map:\n",
            "angry → 0\n",
            "disgust → 1\n",
            "fear → 2\n",
            "happy → 3\n",
            "neutral → 4\n",
            "sad → 5\n",
            "surprise → 6\n"
          ]
        }
      ]
    }
  ],
  "metadata": {
    "kernelspec": {
      "display_name": "Python 3",
      "name": "python3"
    },
    "language_info": {
      "codemirror_mode": {
        "name": "ipython",
        "version": 3
      },
      "file_extension": ".py",
      "mimetype": "text/x-python",
      "name": "python",
      "nbconvert_exporter": "python",
      "pygments_lexer": "ipython3",
      "version": "3.8.5"
    },
    "colab": {
      "provenance": [],
      "gpuType": "T4"
    },
    "accelerator": "GPU"
  },
  "nbformat": 4,
  "nbformat_minor": 0
}